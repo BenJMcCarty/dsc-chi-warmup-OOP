{
 "cells": [
  {
   "cell_type": "markdown",
   "metadata": {},
   "source": [
    "# OOP and SQL"
   ]
  },
  {
   "cell_type": "markdown",
   "metadata": {},
   "source": [
    "This morning we will be using Object Oriented Programming to interface with the Chinook SQL Database\n",
    "\n",
    "![Chinook Schema](images/schema.png)"
   ]
  },
  {
   "cell_type": "code",
   "execution_count": 4,
   "metadata": {
    "ExecuteTime": {
     "end_time": "2021-07-20T13:17:06.538347Z",
     "start_time": "2021-07-20T13:17:06.520348Z"
    }
   },
   "outputs": [],
   "source": [
    "# SQL Connection and Querying\n",
    "import sqlite3\n",
    "# Data manipulation\n",
    "import pandas as pd\n",
    "# os is used to create paths to files\n",
    "import os\n",
    "# For testing code\n",
    "from test_scripts.test_class import Test\n",
    "test = Test()"
   ]
  },
  {
   "cell_type": "markdown",
   "metadata": {},
   "source": [
    "We want to build a ```Chinook``` class that will allow us to easily access information in our database without having to write sql queries every time. We can do this with *attributes* and *methods*.\n",
    "\n",
    "Our class should have an attribute called ```tables``` that returns a list of tables within the database.\n",
    "\n",
    "<u><b>Let's review the code for collecting this information.</b></u>\n",
    "\n",
    "To collect the table names from a sqlite database, we can do the following:"
   ]
  },
  {
   "cell_type": "markdown",
   "metadata": {},
   "source": [
    "### 1) Open up a connection to our database"
   ]
  },
  {
   "cell_type": "code",
   "execution_count": 5,
   "metadata": {
    "ExecuteTime": {
     "end_time": "2021-07-20T13:17:06.554361Z",
     "start_time": "2021-07-20T13:17:06.541346Z"
    }
   },
   "outputs": [],
   "source": [
    "path = os.path.join('data', 'chinook.db')\n",
    "conn = sqlite3.connect(path)"
   ]
  },
  {
   "cell_type": "markdown",
   "metadata": {},
   "source": [
    "### 2) Create a cursor for our database\n",
    ">Note: A cursor does not need to be created when using ```pd.read_sql```\n",
    "\n",
    ">But depending on the use case for your code, pandas is not always the best choice!"
   ]
  },
  {
   "cell_type": "code",
   "execution_count": 7,
   "metadata": {
    "ExecuteTime": {
     "end_time": "2021-07-20T13:17:21.435952Z",
     "start_time": "2021-07-20T13:17:21.418938Z"
    }
   },
   "outputs": [],
   "source": [
    "cursor = conn.cursor()"
   ]
  },
  {
   "cell_type": "markdown",
   "metadata": {},
   "source": [
    "### 3) Execute a sql query"
   ]
  },
  {
   "cell_type": "code",
   "execution_count": 8,
   "metadata": {
    "ExecuteTime": {
     "end_time": "2021-07-20T13:17:21.749540Z",
     "start_time": "2021-07-20T13:17:21.726542Z"
    }
   },
   "outputs": [
    {
     "data": {
      "text/plain": [
       "[('albums',),\n",
       " ('artists',),\n",
       " ('customers',),\n",
       " ('employees',),\n",
       " ('genres',),\n",
       " ('invoices',),\n",
       " ('invoice_items',),\n",
       " ('media_types',),\n",
       " ('playlists',),\n",
       " ('playlist_track',),\n",
       " ('tracks',)]"
      ]
     },
     "execution_count": 8,
     "metadata": {},
     "output_type": "execute_result"
    }
   ],
   "source": [
    "cursor.execute('''SELECT name FROM sqlite_master\n",
    "                                        WHERE\n",
    "                                        type = 'table'\n",
    "                                        AND\n",
    "                                        name NOT LIKE 'sqlite_%';''').fetchall()"
   ]
  },
  {
   "cell_type": "markdown",
   "metadata": {},
   "source": [
    "As you can see this returns a list of tuples. \n",
    "\n",
    "<u>For convenience, we will use list comprehension to change this to a basic list.</u>"
   ]
  },
  {
   "cell_type": "code",
   "execution_count": 9,
   "metadata": {
    "ExecuteTime": {
     "end_time": "2021-07-20T13:17:33.388706Z",
     "start_time": "2021-07-20T13:17:33.370710Z"
    }
   },
   "outputs": [
    {
     "data": {
      "text/plain": [
       "['albums',\n",
       " 'artists',\n",
       " 'customers',\n",
       " 'employees',\n",
       " 'genres',\n",
       " 'invoices',\n",
       " 'invoice_items',\n",
       " 'media_types',\n",
       " 'playlists',\n",
       " 'playlist_track',\n",
       " 'tracks']"
      ]
     },
     "execution_count": 9,
     "metadata": {},
     "output_type": "execute_result"
    }
   ],
   "source": [
    "tables = cursor.execute('''SELECT name FROM sqlite_master\n",
    "                                        WHERE\n",
    "                                        type = 'table'\n",
    "                                        AND\n",
    "                                        name NOT LIKE 'sqlite_%';''').fetchall()\n",
    "\n",
    "tables = [table[0] for table in tables]\n",
    "tables"
   ]
  },
  {
   "cell_type": "markdown",
   "metadata": {},
   "source": [
    "**Much better**"
   ]
  },
  {
   "cell_type": "markdown",
   "metadata": {},
   "source": [
    "*Ok ok*, in the cell below, let's create a class called ```Chinook```.\n",
    "\n",
    "The class should have an ```__init__()``` method.\n",
    "\n",
    ">Hint: *methods* are just functions inside classes with ```self``` as the first argument of the function.\n",
    "\n",
    ">**Example:** \n",
    "\n",
    ">```class NameOfClass():\n",
    "    def name_of_method(self, other_arguments_if_needed):\n",
    "        code here```\n",
    "        \n",
    "\n",
    "The ```__init__()``` method should have two arguments:\n",
    "1. ```self```\n",
    "2. ```database_path```\n",
    "\n",
    "Within the ```__init__()``` method:\n",
    "1. A connection should be opened up to the database using the ```database_path``` variable and saved as a attribute.\n",
    "2. A cursor attribute should be created.\n",
    "3. A tables attribute should be created. \n",
    "\n",
    "The code to create the  ```tables``` attribute will be almost identical to the code up above. \n",
    "\n",
    "The main difference is that the final tables variable should look like this: ```self.tables```."
   ]
  },
  {
   "cell_type": "code",
   "execution_count": 25,
   "metadata": {
    "ExecuteTime": {
     "end_time": "2021-07-20T13:23:57.445855Z",
     "start_time": "2021-07-20T13:23:57.436860Z"
    }
   },
   "outputs": [],
   "source": [
    "# Your code here\n",
    "class Chinook():\n",
    "    \n",
    "    def __init__(self, database_path):\n",
    "        \n",
    "        self.conn = sqlite3.connect(database_path)\n",
    "        \n",
    "        self.cursor = self.conn.cursor()\n",
    "        \n",
    "        tables = self.cursor.execute('''SELECT name FROM sqlite_master\n",
    "                                        WHERE\n",
    "                                        type = 'table'\n",
    "                                        AND\n",
    "                                        name NOT LIKE 'sqlite_%';''').fetchall()\n",
    "        \n",
    "        self.tables = [table[0] for table in tables] "
   ]
  },
  {
   "cell_type": "markdown",
   "metadata": {},
   "source": [
    "**Let's test your class!**"
   ]
  },
  {
   "cell_type": "code",
   "execution_count": 26,
   "metadata": {
    "ExecuteTime": {
     "end_time": "2021-07-20T13:23:58.069828Z",
     "start_time": "2021-07-20T13:23:58.061826Z"
    }
   },
   "outputs": [
    {
     "data": {
      "text/markdown": [
       "✅ **Hey, you did it.  Good job.**"
      ],
      "text/plain": [
       "<IPython.core.display.Markdown object>"
      ]
     },
     "metadata": {},
     "output_type": "display_data"
    }
   ],
   "source": [
    "path = os.path.join('data', 'chinook.db')\n",
    "data = Chinook(path)\n",
    "test.run_test(data.tables, 'tables')"
   ]
  },
  {
   "cell_type": "markdown",
   "metadata": {},
   "source": [
    "**Let's add a *method* to our class called ```search_employees```.**\n",
    "\n",
    "This method should use ```pd.read_sql``` to return a dataframe with a single row for the employee you search for.\n",
    "\n",
    "<u>```search_employees``` should receive three arguments.</u>\n",
    "1. ```self```\n",
    "2. The firstname of an employee.\n",
    "3. The lastname of an employee.\n",
    "\n",
    "If the employee is not found, the method should return the string ```'Employee was not found.'``` "
   ]
  },
  {
   "cell_type": "code",
   "execution_count": 31,
   "metadata": {
    "ExecuteTime": {
     "end_time": "2021-07-20T13:46:35.627227Z",
     "start_time": "2021-07-20T13:46:35.616229Z"
    }
   },
   "outputs": [],
   "source": [
    "class Chinook():\n",
    "    def __init__(self, database_path):\n",
    "        self.conn = sqlite3.connect(database_path)\n",
    "        self.cursor = self.conn.cursor()\n",
    "\n",
    "        tables = self.cursor.execute('''SELECT name FROM sqlite_master\n",
    "                                        WHERE\n",
    "                                        type = 'table'\n",
    "                                        AND\n",
    "                                        name NOT LIKE 'sqlite_%';''')\n",
    "        self.tables = [x[0] for x in tables]\n",
    "    \n",
    "# --> Your code here <-------------\n",
    "    def search_employee(self, firstname, lastname):\n",
    "         \n",
    "        result = pd.read_sql('''SELECT * FROM employees\n",
    "                                WHERE Firstname = \"{}\"\n",
    "                                AND Lastname = \"{}\"'''.format(firstname, lastname), self.conn)\n",
    "        if len(result) < 1:\n",
    "\n",
    "            return 'Employee was not found.'\n",
    "        \n",
    "        else:\n",
    "            \n",
    "            return result"
   ]
  },
  {
   "cell_type": "markdown",
   "metadata": {},
   "source": [
    "**Let's test your code on an existing employee!**"
   ]
  },
  {
   "cell_type": "code",
   "execution_count": 32,
   "metadata": {
    "ExecuteTime": {
     "end_time": "2021-07-20T13:46:36.048174Z",
     "start_time": "2021-07-20T13:46:36.030165Z"
    }
   },
   "outputs": [
    {
     "data": {
      "text/markdown": [
       "✅ **Hey, you did it.  Good job.**"
      ],
      "text/plain": [
       "<IPython.core.display.Markdown object>"
      ]
     },
     "metadata": {},
     "output_type": "display_data"
    }
   ],
   "source": [
    "data = Chinook(path)\n",
    "test.run_test(data.search_employee('Jane', 'Peacock'), 'employee1')"
   ]
  },
  {
   "cell_type": "markdown",
   "metadata": {},
   "source": [
    "**Now let's test on a nonexistant employee!**"
   ]
  },
  {
   "cell_type": "code",
   "execution_count": 33,
   "metadata": {
    "ExecuteTime": {
     "end_time": "2021-07-20T13:46:36.856172Z",
     "start_time": "2021-07-20T13:46:36.847146Z"
    }
   },
   "outputs": [
    {
     "data": {
      "text/markdown": [
       "✅ **Hey, you did it.  Good job.**"
      ],
      "text/plain": [
       "<IPython.core.display.Markdown object>"
      ]
     },
     "metadata": {},
     "output_type": "display_data"
    }
   ],
   "source": [
    "test.run_test(data.search_employee(\"Joe\", \"Shmo\"), 'employee2')"
   ]
  },
  {
   "cell_type": "markdown",
   "metadata": {},
   "source": [
    "In the cell below describe the difference between an attribute and a method."
   ]
  },
  {
   "cell_type": "markdown",
   "metadata": {},
   "source": [
    "- **Attribute:** The settings and object-specific states that are defined in a class that only exist within that object.\n",
    "\n",
    "- **Method:** A function attached to a class/object that can only be called as part of that object."
   ]
  },
  {
   "cell_type": "markdown",
   "metadata": {},
   "source": [
    "<u>There are a lot of really helpful ways OOP can be used to iteract with data.</u>\n",
    "\n",
    "**If you still have time,** I've added some extra functionality to the ```Chinook``` class!\n",
    "\n",
    "Take a look at it, and in a markdown cell, describe what the additions are doing.\n",
    "\n",
    ">Note: You may need to google ```setattr```!"
   ]
  },
  {
   "cell_type": "code",
   "execution_count": 35,
   "metadata": {
    "ExecuteTime": {
     "end_time": "2021-07-20T14:02:49.031142Z",
     "start_time": "2021-07-20T14:02:49.021141Z"
    }
   },
   "outputs": [
    {
     "name": "stdout",
     "output_type": "stream",
     "text": [
      "Help on function read_sql in module pandas.io.sql:\n",
      "\n",
      "read_sql(sql, con, index_col=None, coerce_float=True, params=None, parse_dates=None, columns=None, chunksize: Union[int, NoneType] = None) -> Union[pandas.core.frame.DataFrame, Iterator[pandas.core.frame.DataFrame]]\n",
      "    Read SQL query or database table into a DataFrame.\n",
      "    \n",
      "    This function is a convenience wrapper around ``read_sql_table`` and\n",
      "    ``read_sql_query`` (for backward compatibility). It will delegate\n",
      "    to the specific function depending on the provided input. A SQL query\n",
      "    will be routed to ``read_sql_query``, while a database table name will\n",
      "    be routed to ``read_sql_table``. Note that the delegated function might\n",
      "    have more specific notes about their functionality not listed here.\n",
      "    \n",
      "    Parameters\n",
      "    ----------\n",
      "    sql : str or SQLAlchemy Selectable (select or text object)\n",
      "        SQL query to be executed or a table name.\n",
      "    con : SQLAlchemy connectable, str, or sqlite3 connection\n",
      "        Using SQLAlchemy makes it possible to use any DB supported by that\n",
      "        library. If a DBAPI2 object, only sqlite3 is supported. The user is responsible\n",
      "        for engine disposal and connection closure for the SQLAlchemy connectable. See\n",
      "        `here <https://docs.sqlalchemy.org/en/13/core/connections.html>`_.\n",
      "    index_col : str or list of str, optional, default: None\n",
      "        Column(s) to set as index(MultiIndex).\n",
      "    coerce_float : bool, default True\n",
      "        Attempts to convert values of non-string, non-numeric objects (like\n",
      "        decimal.Decimal) to floating point, useful for SQL result sets.\n",
      "    params : list, tuple or dict, optional, default: None\n",
      "        List of parameters to pass to execute method.  The syntax used\n",
      "        to pass parameters is database driver dependent. Check your\n",
      "        database driver documentation for which of the five syntax styles,\n",
      "        described in PEP 249's paramstyle, is supported.\n",
      "        Eg. for psycopg2, uses %(name)s so use params={'name' : 'value'}.\n",
      "    parse_dates : list or dict, default: None\n",
      "        - List of column names to parse as dates.\n",
      "        - Dict of ``{column_name: format string}`` where format string is\n",
      "          strftime compatible in case of parsing string times, or is one of\n",
      "          (D, s, ns, ms, us) in case of parsing integer timestamps.\n",
      "        - Dict of ``{column_name: arg dict}``, where the arg dict corresponds\n",
      "          to the keyword arguments of :func:`pandas.to_datetime`\n",
      "          Especially useful with databases without native Datetime support,\n",
      "          such as SQLite.\n",
      "    columns : list, default: None\n",
      "        List of column names to select from SQL table (only used when reading\n",
      "        a table).\n",
      "    chunksize : int, default None\n",
      "        If specified, return an iterator where `chunksize` is the\n",
      "        number of rows to include in each chunk.\n",
      "    \n",
      "    Returns\n",
      "    -------\n",
      "    DataFrame or Iterator[DataFrame]\n",
      "    \n",
      "    See Also\n",
      "    --------\n",
      "    read_sql_table : Read SQL database table into a DataFrame.\n",
      "    read_sql_query : Read SQL query into a DataFrame.\n",
      "\n"
     ]
    }
   ],
   "source": [
    "help(pd.read_sql)"
   ]
  },
  {
   "cell_type": "code",
   "execution_count": 36,
   "metadata": {
    "ExecuteTime": {
     "end_time": "2021-07-20T14:02:49.203436Z",
     "start_time": "2021-07-20T14:02:49.185422Z"
    }
   },
   "outputs": [],
   "source": [
    "class Chinook():\n",
    "    def __init__(self, database_path):\n",
    "        self.conn = sqlite3.connect(database_path)\n",
    "        self.cursor = self.conn.cursor()\n",
    "\n",
    "        tables = self.cursor.execute('''SELECT name FROM sqlite_master\n",
    "                                        WHERE\n",
    "                                        type = 'table'\n",
    "                                        AND\n",
    "                                        name NOT LIKE 'sqlite_%';''')\n",
    "        self.tables = [x[0] for x in tables]\n",
    "        \n",
    "        # =========== NEW ADDITION HERE ==========\n",
    "        genres = self.cursor.execute('''SELECT DISTINCT(Name) from genres;''').fetchall()\n",
    "        self.genres = [x[0] for x in genres]\n",
    "        \n",
    "        # =========== NEW ADDITION HERE ==========\n",
    "        for table in self.tables:\n",
    "            entire_table = pd.read_sql('''SELECT * FROM {}'''.format(table), self.conn)\n",
    "            setattr(self, table, entire_table)\n",
    "    \n",
    "    # =========== NEW ADDITION HERE ========== \n",
    "    def query(self, query_string):\n",
    "        return pd.read_sql(query_string, self.conn)\n",
    "\n",
    "    \n",
    "    def search_employee(self, firstname, lastname):\n",
    "        result = self.query('''SELECT * FROM employees\n",
    "                            WHERE FirstName = \"{}\"\n",
    "                            AND LastName = \"{}\"'''.format(firstname, lastname))\n",
    "        if len(result) < 1:\n",
    "            return 'Employee was not found.'\n",
    "            \n",
    "        else:\n",
    "            return result\n",
    "        \n",
    "    # =========== NEW ADDITION HERE ==========\n",
    "    def albums_by_genre(self, genre):\n",
    "        return self.query('''SELECT DISTINCT(Title) FROM albums\n",
    "                            INNER JOIN tracks USING(AlbumId)\n",
    "                            JOIN genres USING(GenreId)\n",
    "                            WHERE genres.Name = \"{}\"'''.format(genre.title()))\n",
    "\n",
    "    "
   ]
  },
  {
   "cell_type": "code",
   "execution_count": 38,
   "metadata": {
    "ExecuteTime": {
     "end_time": "2021-07-20T14:12:47.873528Z",
     "start_time": "2021-07-20T14:12:47.772529Z"
    }
   },
   "outputs": [],
   "source": [
    "ex = Chinook(path)"
   ]
  },
  {
   "cell_type": "code",
   "execution_count": 39,
   "metadata": {
    "ExecuteTime": {
     "end_time": "2021-07-20T14:12:50.832953Z",
     "start_time": "2021-07-20T14:12:50.826953Z"
    }
   },
   "outputs": [
    {
     "data": {
      "text/plain": [
       "<__main__.Chinook at 0x251714db280>"
      ]
     },
     "execution_count": 39,
     "metadata": {},
     "output_type": "execute_result"
    }
   ],
   "source": [
    "ex"
   ]
  },
  {
   "cell_type": "code",
   "execution_count": null,
   "metadata": {},
   "outputs": [],
   "source": [
    "ex."
   ]
  }
 ],
 "metadata": {
  "hide_input": false,
  "kernelspec": {
   "display_name": "Python 3",
   "language": "python",
   "name": "python3"
  },
  "language_info": {
   "codemirror_mode": {
    "name": "ipython",
    "version": 3
   },
   "file_extension": ".py",
   "mimetype": "text/x-python",
   "name": "python",
   "nbconvert_exporter": "python",
   "pygments_lexer": "ipython3",
   "version": "3.8.5"
  },
  "toc": {
   "base_numbering": 1,
   "nav_menu": {},
   "number_sections": false,
   "sideBar": true,
   "skip_h1_title": true,
   "title_cell": "Table of Contents",
   "title_sidebar": "Contents",
   "toc_cell": false,
   "toc_position": {},
   "toc_section_display": true,
   "toc_window_display": false
  },
  "varInspector": {
   "cols": {
    "lenName": 16,
    "lenType": 16,
    "lenVar": 40
   },
   "kernels_config": {
    "python": {
     "delete_cmd_postfix": "",
     "delete_cmd_prefix": "del ",
     "library": "var_list.py",
     "varRefreshCmd": "print(var_dic_list())"
    },
    "r": {
     "delete_cmd_postfix": ") ",
     "delete_cmd_prefix": "rm(",
     "library": "var_list.r",
     "varRefreshCmd": "cat(var_dic_list()) "
    }
   },
   "types_to_exclude": [
    "module",
    "function",
    "builtin_function_or_method",
    "instance",
    "_Feature"
   ],
   "window_display": false
  }
 },
 "nbformat": 4,
 "nbformat_minor": 4
}
